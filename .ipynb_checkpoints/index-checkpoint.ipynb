{
 "cells": [
  {
   "cell_type": "markdown",
   "id": "published-neighborhood",
   "metadata": {},
   "source": [
    "# Adding Features "
   ]
  },
  {
   "cell_type": "markdown",
   "id": "adapted-graham",
   "metadata": {},
   "source": [
    "### Introduction"
   ]
  },
  {
   "cell_type": "markdown",
   "id": "engaged-speaking",
   "metadata": {},
   "source": [
    "In this lesson, we'll add a couple of features to our project and review how the codebase fits together along the way.  Let's get started. "
   ]
  },
  {
   "cell_type": "markdown",
   "id": "elder-specialist",
   "metadata": {},
   "source": [
    "### Initial Steps"
   ]
  },
  {
   "cell_type": "markdown",
   "id": "atlantic-myrtle",
   "metadata": {},
   "source": [
    "Begin by cloning the repository located [here](https://github.com/jigsawlabs-student/notebook_foursquare_fullstack).  Our first large task will be to boot up the application, but simply performing that task will involve some work.\n",
    "\n",
    "* As an initial step, install packages listed in the `requirements.txt` file."
   ]
  },
  {
   "cell_type": "markdown",
   "id": "guided-happiness",
   "metadata": {},
   "source": [
    "### Setting up the database"
   ]
  },
  {
   "cell_type": "markdown",
   "id": "alpine-sunday",
   "metadata": {},
   "source": [
    "Then let's set up our database.  \n",
    "\n",
    "* Create a database called `foursquare_practice`. \n",
    "    * Do so from the command line with the `-c` flag.\n",
    "* Then run the migrations in the `db/migrations/create_tables.sql` file."
   ]
  },
  {
   "cell_type": "markdown",
   "id": "activated-mortgage",
   "metadata": {},
   "source": [
    "Now that our database and related tables are created, let's load in some data.  We have a number of CSV files in the `/data` folder.  We can copy in the data into our tables with a command in the following format:"
   ]
  },
  {
   "cell_type": "markdown",
   "id": "minimal-semester",
   "metadata": {},
   "source": [
    "```SQL\n",
    "COPY table_name\n",
    "FROM 'absolute/path/to/data.csv' \n",
    "DELIMITER ',' \n",
    "CSV HEADER;\n",
    "```"
   ]
  },
  {
   "cell_type": "markdown",
   "id": "every-therapy",
   "metadata": {},
   "source": [
    "Load in each csv file in the data folder to the related table.\n",
    "\n",
    "> **Note**: Begin with the least dependent tables (eg. states then cities)"
   ]
  },
  {
   "cell_type": "markdown",
   "id": "german-banks",
   "metadata": {},
   "source": [
    "We can check that at least some of the data was loaded properly.  For example, confirm that there are 134 records in the venues table."
   ]
  },
  {
   "cell_type": "markdown",
   "id": "sonic-fisher",
   "metadata": {},
   "source": [
    "### Getting Started"
   ]
  },
  {
   "cell_type": "markdown",
   "id": "monetary-traffic",
   "metadata": {},
   "source": [
    "\n",
    "\n",
    "Now the first step will be to see if we can start up the website.  To do so, we'll have to set some of the environmental variables so that we can connect to the correct database.  Create a `.env` file, and add the following variables assigned to the appropriate values.\n",
    "\n",
    "```shell\n",
    "# .env\n",
    "DB_PASSWORD = \n",
    "DB_NAME = \n",
    "DB_HOST = \n",
    "DB_USER = \n",
    "DEBUG = \n",
    "TESTING = \n",
    "```"
   ]
  },
  {
   "cell_type": "markdown",
   "id": "equivalent-hughes",
   "metadata": {},
   "source": [
    "Then try booting up the backend by running the flask application with the `manage.py` file.  \n",
    "\n",
    ">**Note:** If unsure how to boot up flask with `manage.py`, run `python3 manage.py` and look at the output for the correct approach.\n",
    "\n",
    "Then find the route that displays a list of restaurants, and then navigate to that route.  "
   ]
  },
  {
   "cell_type": "markdown",
   "id": "manufactured-prize",
   "metadata": {},
   "source": [
    "> The individual restaurants may be different, but we should see something like the following."
   ]
  },
  {
   "cell_type": "markdown",
   "id": "developmental-saturn",
   "metadata": {},
   "source": [
    "> <img src=\"./venues_json.png\" width=\"60%\">"
   ]
  },
  {
   "cell_type": "markdown",
   "id": "norman-segment",
   "metadata": {},
   "source": [
    "Ok, now it's time to get the frontend setup.\n",
    "\n",
    "* First, install the packages listed in the `requirements.txt` file for the frontend.\n",
    "* Then bootup the streamlit application\n",
    "\n",
    "It should look something like the following."
   ]
  },
  {
   "cell_type": "markdown",
   "id": "exterior-stage",
   "metadata": {},
   "source": [
    "> <img src=\"./streamlit_frontend.png\" width=\"60%\">"
   ]
  },
  {
   "cell_type": "markdown",
   "id": "built-brave",
   "metadata": {},
   "source": [
    "### Reading the Code"
   ]
  },
  {
   "cell_type": "markdown",
   "id": "postal-fraction",
   "metadata": {},
   "source": [
    "Before adding additional features to the codebase, let's make sure we understand how this first graph is being displayed.  To do so, we can work backwards.  \n",
    "\n",
    "The plotly graph is displayed with the following code in the `index.py` file."
   ]
  },
  {
   "cell_type": "markdown",
   "id": "fallen-webster",
   "metadata": {},
   "source": [
    "> <img src=\"./venue_plot.png\" width=\"60%\">"
   ]
  },
  {
   "cell_type": "markdown",
   "id": "eight-vegetation",
   "metadata": {},
   "source": [
    "We can see that the scatter plot calls the functions `venue_names`, and `venue_ratings`, with each function taking an argument of `venues`.  And now let's see where the variable `venues` comes from.\n",
    "\n",
    "We can see it defined a few lines above."
   ]
  },
  {
   "cell_type": "markdown",
   "id": "initial-nursing",
   "metadata": {},
   "source": [
    "> <img src=\"./venues_code.png\" width='80%'>"
   ]
  },
  {
   "cell_type": "markdown",
   "id": "level-drawing",
   "metadata": {},
   "source": [
    "So we see that venues comes from the `find_venues` code, and takes in a value of price, which is defined from the dashboard.  And we can learn more about `find_venues` by looking at the file it's imported from, `view_functions`.  There, we'll see the following:"
   ]
  },
  {
   "cell_type": "markdown",
   "id": "portable-retirement",
   "metadata": {},
   "source": [
    "```python\n",
    "# view_functions.py\n",
    "\n",
    "import requests\n",
    "API_URL = \"http://127.0.0.1:5000/venues/search\"\n",
    "\n",
    "def find_venues(price):\n",
    "    response = requests.get(API_URL, params = {'price': price})\n",
    "    return response.json()\n",
    "```"
   ]
  },
  {
   "cell_type": "markdown",
   "id": "indie-watson",
   "metadata": {},
   "source": [
    "So this is the line of code that hits our api, via the `API_URL`, and then passes these venues to the `venue_names` and `venue_ratings` functions to return a list of values.  \n",
    "```python\n",
    "# names\n",
    "['chipotle', 'cafe mogador', 'numero uno']\n",
    "# ratings\n",
    "[3, 5, 4.5]\n",
    "```"
   ]
  },
  {
   "cell_type": "markdown",
   "id": "collected-heading",
   "metadata": {},
   "source": [
    "Which are then displayed in the plot that we see on the screen."
   ]
  },
  {
   "cell_type": "markdown",
   "id": "adult-interference",
   "metadata": {},
   "source": [
    "> Notice our approach for reading the code.  We started with the code directly related to our view, and then traced it back from the functions of `venue_names`,  `venue_ratings` and the variable `venues`, to see how this plot was created."
   ]
  },
  {
   "cell_type": "markdown",
   "id": "internal-trout",
   "metadata": {},
   "source": [
    "### Updating the View"
   ]
  },
  {
   "cell_type": "markdown",
   "id": "ranking-updating",
   "metadata": {},
   "source": [
    "Now let's add a new plot that graphs the number of likes.  We want a plot that displays the `venue_names` along the x-axis and the number of likes of each venue along the y-axis.  Define any functions in the `view_functions.py` file."
   ]
  },
  {
   "cell_type": "markdown",
   "id": "collect-sauce",
   "metadata": {},
   "source": [
    "> Note: We'll have to make sure that we only display those venues that have a `likes` value -- so both the venue names and venue likes may need to be filtered to meet this requirement."
   ]
  },
  {
   "cell_type": "markdown",
   "id": "expressed-rebel",
   "metadata": {},
   "source": [
    "<img src=\"./venue_likes.png\" width=\"60%\">"
   ]
  },
  {
   "cell_type": "markdown",
   "id": "perceived-retrieval",
   "metadata": {},
   "source": [
    "### Updating the API"
   ]
  },
  {
   "cell_type": "markdown",
   "id": "balanced-emperor",
   "metadata": {},
   "source": [
    "Now that we have updated a plot on the frontend, let's see if we can update the API.  Currently the API does not display each venue's `category`.  Update the API so that, if there is a category this value is returned.  When complete the API should look like the following:"
   ]
  },
  {
   "cell_type": "markdown",
   "id": "micro-adapter",
   "metadata": {},
   "source": [
    "> So notice that the first dictionary does not have a category listed, as none was available.  But the second entry does."
   ]
  },
  {
   "cell_type": "markdown",
   "id": "intense-prague",
   "metadata": {},
   "source": [
    "> <img src=\"./category_name.png\" width=\"40%\">"
   ]
  },
  {
   "cell_type": "markdown",
   "id": "assigned-pledge",
   "metadata": {},
   "source": [
    "> **Hint**:  To solve this, use the same technique of starting with the top most layer, and working backwards to see where to update the code.  This time, the top most layer is the `/venues` route."
   ]
  },
  {
   "cell_type": "markdown",
   "id": "sweet-actress",
   "metadata": {},
   "source": [
    "> Bonus: If you would like to make use of this code, update the venue ratings plot with the following code:"
   ]
  },
  {
   "cell_type": "markdown",
   "id": "amateur-symposium",
   "metadata": {},
   "source": [
    "```python\n",
    "st.header('Venues')\n",
    "st.write('Venue ratings')\n",
    "# update here\n",
    "colors = category_colors(venues)\n",
    "scatter = go.Scatter(x = venue_names(venues, True), y = venue_ratings(venues, True), marker = {'color': colors }, mode = 'markers')\n",
    "fig = go.Figure(scatter)\n",
    "st.plotly_chart(fig)\n",
    "```"
   ]
  },
  {
   "cell_type": "markdown",
   "id": "funded-phenomenon",
   "metadata": {},
   "source": [
    "### Adding an Aggregate Function"
   ]
  },
  {
   "cell_type": "markdown",
   "id": "religious-snake",
   "metadata": {},
   "source": [
    "Now before moving on, let's think about how our graphs above have worked.  We have plotted attributes - like the rating or number of likes of each *restaurant venue*.  We get this by making a request to the `/venues` url, which returns a list of venue dictionaries."
   ]
  },
  {
   "cell_type": "markdown",
   "id": "infectious-intelligence",
   "metadata": {},
   "source": [
    "Now this time, let's develop a plot that displays the name of a `category` and the corresponding average rating of restaurants in each category.  When it's done, it will look like the following:\n",
    "\n",
    "> <img src=\"./category_plot.png\" width=\"60%\">"
   ]
  },
  {
   "cell_type": "markdown",
   "id": "foreign-politics",
   "metadata": {},
   "source": [
    "To develop this, we'll need to query our database to send back data from our api to our frontend.  And the data will need to be in a differerent format in each layer.\n",
    "\n",
    "Let's see the different formats:\n",
    "\n",
    "* database: return a list of records \n",
    "    * `[(1, 'mexican', 4.3), (2, 'chinese', 4.7)]`\n",
    "* api: return a list of dictionaries (json)\n",
    "    * `[{'id': 1, 'cuisine': 'mexican', 'rating': 4.3}, {'id': 2, 'cuisine': 'chinese', 'rating': 4.7}]`\n",
    "* plot: display x values and y values\n",
    "  * `go.Scatter(x = ['mexican', 'chinese'], y = [4.3, 4.7])`"
   ]
  },
  {
   "cell_type": "markdown",
   "id": "sexual-elevation",
   "metadata": {},
   "source": [
    "So each layer of our application returns data in the proper format - the database returns a list of records, the api returns a list of dictionaries, and the plotly graph takes in data of a list of x values and y values."
   ]
  },
  {
   "cell_type": "markdown",
   "id": "entire-agenda",
   "metadata": {},
   "source": [
    "### Adding the Function"
   ]
  },
  {
   "cell_type": "markdown",
   "id": "parental-final",
   "metadata": {},
   "source": [
    "Now let's build this out.  We'll begin with the database method that returns the list of categories and the related average rating.\n",
    "\n",
    "* Before writing out this method, we need to determine the correct location for it.  Which model does this method belong in?\n",
    "\n",
    "* Is this an instance method or a class method.  (We'll have this method return multiple average ratings.)"
   ]
  },
  {
   "cell_type": "markdown",
   "id": "registered-armstrong",
   "metadata": {},
   "source": [
    "> Ok, so method belongs in the `Category` class, and should be a class method (as we are performing the calculation over the collection of categories and not a single category)."
   ]
  },
  {
   "cell_type": "markdown",
   "id": "individual-hammer",
   "metadata": {},
   "source": [
    "Now define the following class method.\n",
    "\n",
    "* `Venue.avg_ratings()`"
   ]
  },
  {
   "cell_type": "markdown",
   "id": "authentic-commerce",
   "metadata": {},
   "source": [
    "> First just return a list of the average ratings, and then as an almost fun bonus, return the categories from highest to lowest rating, remove the categories with null values, and round the ratings to two digits."
   ]
  },
  {
   "cell_type": "markdown",
   "id": "organizational-christianity",
   "metadata": {},
   "source": [
    "And then run `console.py` and check that the function works."
   ]
  },
  {
   "cell_type": "markdown",
   "id": "innocent-maria",
   "metadata": {},
   "source": [
    "<img src=\"./avg_ratings_console.png\" width=\"100%\">"
   ]
  },
  {
   "cell_type": "markdown",
   "id": "familiar-syndicate",
   "metadata": {},
   "source": [
    "* Returning a list of dictionaries"
   ]
  },
  {
   "cell_type": "markdown",
   "id": "first-tissue",
   "metadata": {},
   "source": [
    "Now we successfully made the database call, but to return this data from the API to our frontend as JSON, we always want to return a list of dictionaries.  Normally, we would take this data and create objects out of it, and then from there create our dictionaries.  But here, it seems like it would be easier to simply create a dictionary of for each category that looks like the following."
   ]
  },
  {
   "cell_type": "markdown",
   "id": "mature-vatican",
   "metadata": {},
   "source": [
    "```python\n",
    "[{'name': 'Sandwich Place', 'rating': 9.3}, {'name': 'Vegetarian', 'rating': 8.9}]\n",
    "```"
   ]
  },
  {
   "cell_type": "markdown",
   "id": "outstanding-material",
   "metadata": {},
   "source": [
    "So update the `avg_ratings` function so that it returns the data in this format."
   ]
  },
  {
   "cell_type": "markdown",
   "id": "noticed-repeat",
   "metadata": {},
   "source": [
    "> This time, when we call `Category.avg_ratings`"
   ]
  },
  {
   "cell_type": "markdown",
   "id": "thick-wheel",
   "metadata": {},
   "source": [
    "```python\n",
    "Category.avg_ratings()\n",
    "# [{'name': 'Sandwich Place', 'rating': Decimal('9.30')}, {'name': 'Vegetarian / Vegan Restaurant', 'rating': Decimal('8.90')}, {'name': 'Indian Restaurant', 'rating': Decimal('8.90')}, {'name': 'Taco Place', 'rating': Decimal('8.04')}\n",
    "```"
   ]
  },
  {
   "cell_type": "markdown",
   "id": "falling-meaning",
   "metadata": {},
   "source": [
    "* Returning from the api"
   ]
  },
  {
   "cell_type": "markdown",
   "id": "smooth-richardson",
   "metadata": {},
   "source": [
    "Ok, now that we have a way to return our list of dictionaries, it's time to have this data returned from our API."
   ]
  },
  {
   "cell_type": "markdown",
   "id": "perfect-insight",
   "metadata": {},
   "source": [
    "If it's working properly, we should be able to make a request to the categories end point, and see a list of dictionaries with the name of the category and corresponding average rating."
   ]
  },
  {
   "cell_type": "markdown",
   "id": "advised-details",
   "metadata": {},
   "source": [
    "> <img src=\"./categories_api.png\" width=\"40%\">"
   ]
  },
  {
   "cell_type": "markdown",
   "id": "subtle-genre",
   "metadata": {},
   "source": [
    "### Plotting our Data"
   ]
  },
  {
   "cell_type": "markdown",
   "id": "smaller-harbor",
   "metadata": {},
   "source": [
    "Ok, now that our API returns data in the correct format, it's time to plot the data.  We'll want a plot of the names of the categories and the related average rating.  The plot should look like the following:"
   ]
  },
  {
   "cell_type": "markdown",
   "id": "incorporated-craft",
   "metadata": {},
   "source": [
    "* Write a function called `find_categories`, that takes no arguments and returns a list of categories as the list of dictionaries from our API."
   ]
  },
  {
   "cell_type": "markdown",
   "id": "structured-watch",
   "metadata": {},
   "source": [
    "* Then create the plot of categories and corresponding ratings, writing any additional functions along the way."
   ]
  },
  {
   "cell_type": "markdown",
   "id": "executive-western",
   "metadata": {},
   "source": [
    "> <img src=\"./avg_categories_plot.png\" width=\"60%\">"
   ]
  },
  {
   "cell_type": "markdown",
   "id": "stuffed-probe",
   "metadata": {},
   "source": [
    "### Summary"
   ]
  },
  {
   "cell_type": "markdown",
   "id": "statewide-integer",
   "metadata": {},
   "source": [
    "In this lesson, we worked through adding features to our codebase.  We saw that to do so, a large step was in first understanding the different components of the codebase, and then making the appropriate fix.  We also saw that a good technique to determine what code to update was to trace our code from the outer most layer, and then see what code is relied upon."
   ]
  }
 ],
 "metadata": {
  "kernelspec": {
   "display_name": "Python 3",
   "language": "python",
   "name": "python3"
  },
  "language_info": {
   "codemirror_mode": {
    "name": "ipython",
    "version": 3
   },
   "file_extension": ".py",
   "mimetype": "text/x-python",
   "name": "python",
   "nbconvert_exporter": "python",
   "pygments_lexer": "ipython3",
   "version": "3.8.6"
  }
 },
 "nbformat": 4,
 "nbformat_minor": 5
}
